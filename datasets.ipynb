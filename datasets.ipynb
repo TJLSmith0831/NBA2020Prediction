{
 "cells": [
  {
   "cell_type": "code",
   "execution_count": 1,
   "metadata": {},
   "outputs": [
    {
     "name": "stdout",
     "output_type": "stream",
     "text": [
      "fatal: destination path 'sportsreference' already exists and is not an empty directory.\r\n"
     ]
    }
   ],
   "source": [
    "# Git Clone\n",
    "! git clone https://github.com/roclark/sportsreference"
   ]
  },
  {
   "cell_type": "code",
   "execution_count": 2,
   "metadata": {},
   "outputs": [
    {
     "name": "stdout",
     "output_type": "stream",
     "text": [
      "/Users/tjsmith99/Portfolio/sportsAnalytics/2020PlayoffPrediction/data/sportsreference\n"
     ]
    }
   ],
   "source": [
    "cd sportsreference"
   ]
  },
  {
   "cell_type": "code",
   "execution_count": 3,
   "metadata": {
    "scrolled": true
   },
   "outputs": [
    {
     "name": "stdout",
     "output_type": "stream",
     "text": [
      "Requirement already satisfied: attrs==19.3.0 in /Users/tjsmith99/opt/anaconda3/lib/python3.7/site-packages (from -r requirements.txt (line 1)) (19.3.0)\n",
      "Requirement already satisfied: certifi==2020.4.5.1 in /Users/tjsmith99/opt/anaconda3/lib/python3.7/site-packages (from -r requirements.txt (line 2)) (2020.4.5.1)\n",
      "Requirement already satisfied: chardet==3.0.4 in /Users/tjsmith99/opt/anaconda3/lib/python3.7/site-packages (from -r requirements.txt (line 3)) (3.0.4)\n",
      "Requirement already satisfied: coverage==5.0.4 in /Users/tjsmith99/opt/anaconda3/lib/python3.7/site-packages (from -r requirements.txt (line 4)) (5.0.4)\n",
      "Requirement already satisfied: cssselect==1.1.0 in /Users/tjsmith99/opt/anaconda3/lib/python3.7/site-packages (from -r requirements.txt (line 5)) (1.1.0)\n",
      "Requirement already satisfied: flexmock==0.10.4 in /Users/tjsmith99/opt/anaconda3/lib/python3.7/site-packages (from -r requirements.txt (line 6)) (0.10.4)\n",
      "Requirement already satisfied: idna==2.9 in /Users/tjsmith99/opt/anaconda3/lib/python3.7/site-packages (from -r requirements.txt (line 7)) (2.9)\n",
      "Requirement already satisfied: lxml==4.5.0 in /Users/tjsmith99/opt/anaconda3/lib/python3.7/site-packages (from -r requirements.txt (line 8)) (4.5.0)\n",
      "Requirement already satisfied: mock==3.0.5 in /Users/tjsmith99/opt/anaconda3/lib/python3.7/site-packages (from -r requirements.txt (line 9)) (3.0.5)\n",
      "Requirement already satisfied: more-itertools==8.2.0 in /Users/tjsmith99/opt/anaconda3/lib/python3.7/site-packages (from -r requirements.txt (line 10)) (8.2.0)\n",
      "Requirement already satisfied: numpy==1.18.2 in /Users/tjsmith99/opt/anaconda3/lib/python3.7/site-packages (from -r requirements.txt (line 11)) (1.18.2)\n",
      "Requirement already satisfied: pandas==0.25.3 in /Users/tjsmith99/opt/anaconda3/lib/python3.7/site-packages (from -r requirements.txt (line 12)) (0.25.3)\n",
      "Requirement already satisfied: packaging==20.3 in /Users/tjsmith99/opt/anaconda3/lib/python3.7/site-packages (from -r requirements.txt (line 13)) (20.3)\n",
      "Requirement already satisfied: pluggy==0.13.1 in /Users/tjsmith99/opt/anaconda3/lib/python3.7/site-packages (from -r requirements.txt (line 14)) (0.13.1)\n",
      "Requirement already satisfied: py==1.8.1 in /Users/tjsmith99/opt/anaconda3/lib/python3.7/site-packages (from -r requirements.txt (line 15)) (1.8.1)\n",
      "Requirement already satisfied: pycodestyle==2.5.0 in /Users/tjsmith99/opt/anaconda3/lib/python3.7/site-packages (from -r requirements.txt (line 16)) (2.5.0)\n",
      "Requirement already satisfied: pyparsing==2.4.7 in /Users/tjsmith99/opt/anaconda3/lib/python3.7/site-packages (from -r requirements.txt (line 17)) (2.4.7)\n",
      "Requirement already satisfied: pyquery==1.4.0 in /Users/tjsmith99/opt/anaconda3/lib/python3.7/site-packages (from -r requirements.txt (line 18)) (1.4.0)\n",
      "Requirement already satisfied: pytest==5.4.1 in /Users/tjsmith99/opt/anaconda3/lib/python3.7/site-packages (from -r requirements.txt (line 19)) (5.4.1)\n",
      "Requirement already satisfied: pytest-cov==2.8.1 in /Users/tjsmith99/opt/anaconda3/lib/python3.7/site-packages (from -r requirements.txt (line 20)) (2.8.1)\n",
      "Requirement already satisfied: python-dateutil==2.8.1 in /Users/tjsmith99/opt/anaconda3/lib/python3.7/site-packages (from -r requirements.txt (line 21)) (2.8.1)\n",
      "Requirement already satisfied: pytz==2019.3 in /Users/tjsmith99/opt/anaconda3/lib/python3.7/site-packages (from -r requirements.txt (line 22)) (2019.3)\n",
      "Requirement already satisfied: requests==2.23.0 in /Users/tjsmith99/opt/anaconda3/lib/python3.7/site-packages (from -r requirements.txt (line 23)) (2.23.0)\n",
      "Requirement already satisfied: six==1.14.0 in /Users/tjsmith99/opt/anaconda3/lib/python3.7/site-packages (from -r requirements.txt (line 24)) (1.14.0)\n",
      "Requirement already satisfied: urllib3==1.25.8 in /Users/tjsmith99/opt/anaconda3/lib/python3.7/site-packages (from -r requirements.txt (line 25)) (1.25.8)\n",
      "Requirement already satisfied: wcwidth==0.1.9 in /Users/tjsmith99/opt/anaconda3/lib/python3.7/site-packages (from -r requirements.txt (line 26)) (0.1.9)\n",
      "Requirement already satisfied: importlib-metadata>=0.12; python_version < \"3.8\" in /Users/tjsmith99/opt/anaconda3/lib/python3.7/site-packages (from pluggy==0.13.1->-r requirements.txt (line 14)) (1.5.0)\n",
      "Requirement already satisfied: zipp>=0.5 in /Users/tjsmith99/opt/anaconda3/lib/python3.7/site-packages (from importlib-metadata>=0.12; python_version < \"3.8\"->pluggy==0.13.1->-r requirements.txt (line 14)) (2.2.0)\n",
      "Note: you may need to restart the kernel to use updated packages.\n"
     ]
    }
   ],
   "source": [
    "pip install -r requirements.txt"
   ]
  },
  {
   "cell_type": "code",
   "execution_count": 4,
   "metadata": {},
   "outputs": [],
   "source": [
    "# Import package and API\n",
    "import pandas as pd\n",
    "from sportsreference.nba.teams import Teams\n",
    "from sportsreference.nba.schedule import Schedule"
   ]
  },
  {
   "cell_type": "code",
   "execution_count": 5,
   "metadata": {},
   "outputs": [],
   "source": [
    "year = str(2020)\n",
    "all_team_df = Teams(year = year).dataframes"
   ]
  },
  {
   "cell_type": "code",
   "execution_count": 6,
   "metadata": {},
   "outputs": [],
   "source": [
    "#all_team_df['id'] = \n",
    "all_team_df['id'] = all_team_df['abbreviation'].apply(lambda x: x + \" \" + year)"
   ]
  },
  {
   "cell_type": "code",
   "execution_count": 7,
   "metadata": {
    "scrolled": true
   },
   "outputs": [
    {
     "data": {
      "text/plain": [
       "(30, 48)"
      ]
     },
     "execution_count": 7,
     "metadata": {},
     "output_type": "execute_result"
    }
   ],
   "source": [
    "all_team_df.shape"
   ]
  },
  {
   "cell_type": "code",
   "execution_count": 8,
   "metadata": {
    "scrolled": true
   },
   "outputs": [
    {
     "name": "stdout",
     "output_type": "stream",
     "text": [
      "2019\n",
      "2018\n",
      "2017\n",
      "2016\n",
      "2015\n",
      "2014\n",
      "2013\n",
      "2012\n",
      "2011\n",
      "2010\n",
      "2009\n",
      "2008\n",
      "2007\n",
      "2006\n",
      "2005\n",
      "2004\n",
      "2003\n",
      "2002\n",
      "2001\n",
      "2000\n",
      "1999\n",
      "1998\n",
      "1997\n",
      "1996\n",
      "1995\n",
      "1994\n",
      "1993\n",
      "1992\n",
      "1991\n",
      "1990\n",
      "1989\n",
      "1988\n",
      "1987\n",
      "1986\n",
      "1985\n",
      "1984\n",
      "1983\n",
      "1982\n",
      "1981\n",
      "1980\n"
     ]
    }
   ],
   "source": [
    "for i in range(2019,1979,-1):\n",
    "    print(i)\n",
    "    year = str(i)\n",
    "    temp_df = Teams(year = year).dataframes\n",
    "    temp_df['id'] = temp_df['abbreviation'].apply(lambda x: x + \" \" + year)\n",
    "    all_team_df = pd.concat([all_team_df, temp_df], axis = 0)"
   ]
  },
  {
   "cell_type": "code",
   "execution_count": 9,
   "metadata": {},
   "outputs": [],
   "source": [
    "all_team_df['year'] = all_team_df['id'].apply(lambda x: x.split(' ')[1])"
   ]
  },
  {
   "cell_type": "code",
   "execution_count": 10,
   "metadata": {},
   "outputs": [
    {
     "data": {
      "text/plain": [
       "Index(['abbreviation', 'assists', 'blocks', 'defensive_rebounds',\n",
       "       'field_goal_attempts', 'field_goal_percentage', 'field_goals',\n",
       "       'free_throw_attempts', 'free_throw_percentage', 'free_throws',\n",
       "       'games_played', 'minutes_played', 'name', 'offensive_rebounds',\n",
       "       'opp_assists', 'opp_blocks', 'opp_defensive_rebounds',\n",
       "       'opp_field_goal_attempts', 'opp_field_goal_percentage',\n",
       "       'opp_field_goals', 'opp_free_throw_attempts',\n",
       "       'opp_free_throw_percentage', 'opp_free_throws',\n",
       "       'opp_offensive_rebounds', 'opp_personal_fouls', 'opp_points',\n",
       "       'opp_steals', 'opp_three_point_field_goal_attempts',\n",
       "       'opp_three_point_field_goal_percentage', 'opp_three_point_field_goals',\n",
       "       'opp_total_rebounds', 'opp_turnovers',\n",
       "       'opp_two_point_field_goal_attempts',\n",
       "       'opp_two_point_field_goal_percentage', 'opp_two_point_field_goals',\n",
       "       'personal_fouls', 'points', 'rank', 'steals',\n",
       "       'three_point_field_goal_attempts', 'three_point_field_goal_percentage',\n",
       "       'three_point_field_goals', 'total_rebounds', 'turnovers',\n",
       "       'two_point_field_goal_attempts', 'two_point_field_goal_percentage',\n",
       "       'two_point_field_goals', 'id', 'year'],\n",
       "      dtype='object')"
      ]
     },
     "execution_count": 10,
     "metadata": {},
     "output_type": "execute_result"
    }
   ],
   "source": [
    "all_team_df.columns"
   ]
  },
  {
   "cell_type": "code",
   "execution_count": 11,
   "metadata": {},
   "outputs": [],
   "source": [
    "def get_win_rate(tid):\n",
    "    abb = tid.split(' ')[0]\n",
    "    year = int(tid.split(' ')[1])\n",
    "    games = 0\n",
    "    wins = 0\n",
    "    playoff_games = 0\n",
    "    playoff_wins = 0\n",
    "    \n",
    "    for game in Schedule(abb, year = year):\n",
    "        if game.playoffs == False:\n",
    "            games += 1\n",
    "            if game.result == 'Win':\n",
    "                wins += 1\n",
    "        elif game.playoffs == True:\n",
    "            playoff_games += 1\n",
    "            if game.result == 'Win':\n",
    "                playoff_wins += 1\n",
    "            \n",
    "    return wins, games, playoff_wins, playoff_games"
   ]
  },
  {
   "cell_type": "code",
   "execution_count": 12,
   "metadata": {},
   "outputs": [
    {
     "data": {
      "text/plain": [
       "(48, 75, 0, 0)"
      ]
     },
     "execution_count": 12,
     "metadata": {},
     "output_type": "execute_result"
    }
   ],
   "source": [
    "get_win_rate('DAL 2020')"
   ]
  },
  {
   "cell_type": "code",
   "execution_count": 13,
   "metadata": {},
   "outputs": [],
   "source": [
    "total_wins_dict = {}"
   ]
  },
  {
   "cell_type": "code",
   "execution_count": 14,
   "metadata": {
    "scrolled": true
   },
   "outputs": [
    {
     "name": "stdout",
     "output_type": "stream",
     "text": [
      "2019\n",
      "2018\n",
      "2017\n",
      "2016\n",
      "2015\n",
      "2014\n",
      "2013\n",
      "2012\n",
      "2011\n",
      "2010\n",
      "2009\n",
      "2008\n",
      "2007\n",
      "2006\n",
      "2005\n",
      "2004\n",
      "2003\n",
      "2002\n",
      "2001\n",
      "2000\n",
      "1999\n",
      "1998\n",
      "1997\n",
      "1996\n",
      "1995\n",
      "1994\n",
      "1993\n",
      "1992\n",
      "1991\n",
      "1990\n",
      "1989\n",
      "1988\n",
      "1987\n",
      "1986\n",
      "1985\n",
      "1984\n",
      "1983\n",
      "1982\n",
      "1981\n",
      "1980\n"
     ]
    }
   ],
   "source": [
    "for y in range(2019, 1979, -1):\n",
    "    \n",
    "    tids = all_team_df[all_team_df['year'] == str(y)]['id']\n",
    "    \n",
    "    wins_dict = {'id': [], 'wins': [], 'games': [], 'playoff_wins': [], 'playoff_games': []}\n",
    "\n",
    "    for i, tid in enumerate(tids):\n",
    "        wins, games, playoff_wins, playoff_games = get_win_rate(tid)\n",
    "        wins_dict['id'].append(tid)\n",
    "        wins_dict['wins'].append(wins)\n",
    "        wins_dict['games'].append(games)\n",
    "        wins_dict['playoff_wins'].append(playoff_wins)\n",
    "        wins_dict['playoff_games'].append(playoff_games)\n",
    "        \n",
    "    total_wins_dict[y] = wins_dict\n",
    "    print(y)"
   ]
  },
  {
   "cell_type": "code",
   "execution_count": 16,
   "metadata": {},
   "outputs": [
    {
     "data": {
      "text/html": [
       "<div>\n",
       "<style scoped>\n",
       "    .dataframe tbody tr th:only-of-type {\n",
       "        vertical-align: middle;\n",
       "    }\n",
       "\n",
       "    .dataframe tbody tr th {\n",
       "        vertical-align: top;\n",
       "    }\n",
       "\n",
       "    .dataframe thead th {\n",
       "        text-align: right;\n",
       "    }\n",
       "</style>\n",
       "<table border=\"1\" class=\"dataframe\">\n",
       "  <thead>\n",
       "    <tr style=\"text-align: right;\">\n",
       "      <th></th>\n",
       "      <th>abbreviation</th>\n",
       "      <th>assists</th>\n",
       "      <th>blocks</th>\n",
       "      <th>defensive_rebounds</th>\n",
       "      <th>field_goal_attempts</th>\n",
       "      <th>field_goal_percentage</th>\n",
       "      <th>field_goals</th>\n",
       "      <th>free_throw_attempts</th>\n",
       "      <th>free_throw_percentage</th>\n",
       "      <th>free_throws</th>\n",
       "      <th>...</th>\n",
       "      <th>turnovers</th>\n",
       "      <th>two_point_field_goal_attempts</th>\n",
       "      <th>two_point_field_goal_percentage</th>\n",
       "      <th>two_point_field_goals</th>\n",
       "      <th>id</th>\n",
       "      <th>year</th>\n",
       "      <th>wins</th>\n",
       "      <th>games</th>\n",
       "      <th>playoff_wins</th>\n",
       "      <th>playoff_games</th>\n",
       "    </tr>\n",
       "  </thead>\n",
       "  <tbody>\n",
       "    <tr>\n",
       "      <th>0</th>\n",
       "      <td>MIL</td>\n",
       "      <td>2136</td>\n",
       "      <td>486</td>\n",
       "      <td>3316</td>\n",
       "      <td>7471</td>\n",
       "      <td>0.476</td>\n",
       "      <td>3555</td>\n",
       "      <td>1904</td>\n",
       "      <td>0.773</td>\n",
       "      <td>1471</td>\n",
       "      <td>...</td>\n",
       "      <td>1137</td>\n",
       "      <td>4337</td>\n",
       "      <td>0.565</td>\n",
       "      <td>2450</td>\n",
       "      <td>MIL 2019</td>\n",
       "      <td>2019</td>\n",
       "      <td>60</td>\n",
       "      <td>82</td>\n",
       "      <td>10</td>\n",
       "      <td>15</td>\n",
       "    </tr>\n",
       "    <tr>\n",
       "      <th>1</th>\n",
       "      <td>GSW</td>\n",
       "      <td>2413</td>\n",
       "      <td>525</td>\n",
       "      <td>2990</td>\n",
       "      <td>7361</td>\n",
       "      <td>0.491</td>\n",
       "      <td>3612</td>\n",
       "      <td>1672</td>\n",
       "      <td>0.801</td>\n",
       "      <td>1339</td>\n",
       "      <td>...</td>\n",
       "      <td>1169</td>\n",
       "      <td>4537</td>\n",
       "      <td>0.557</td>\n",
       "      <td>2525</td>\n",
       "      <td>GSW 2019</td>\n",
       "      <td>2019</td>\n",
       "      <td>57</td>\n",
       "      <td>82</td>\n",
       "      <td>14</td>\n",
       "      <td>22</td>\n",
       "    </tr>\n",
       "    <tr>\n",
       "      <th>2</th>\n",
       "      <td>NOP</td>\n",
       "      <td>2216</td>\n",
       "      <td>441</td>\n",
       "      <td>2969</td>\n",
       "      <td>7563</td>\n",
       "      <td>0.473</td>\n",
       "      <td>3581</td>\n",
       "      <td>1921</td>\n",
       "      <td>0.761</td>\n",
       "      <td>1462</td>\n",
       "      <td>...</td>\n",
       "      <td>1215</td>\n",
       "      <td>5114</td>\n",
       "      <td>0.536</td>\n",
       "      <td>2739</td>\n",
       "      <td>NOP 2019</td>\n",
       "      <td>2019</td>\n",
       "      <td>33</td>\n",
       "      <td>82</td>\n",
       "      <td>0</td>\n",
       "      <td>0</td>\n",
       "    </tr>\n",
       "    <tr>\n",
       "      <th>3</th>\n",
       "      <td>PHI</td>\n",
       "      <td>2207</td>\n",
       "      <td>432</td>\n",
       "      <td>3025</td>\n",
       "      <td>7233</td>\n",
       "      <td>0.471</td>\n",
       "      <td>3407</td>\n",
       "      <td>2258</td>\n",
       "      <td>0.771</td>\n",
       "      <td>1742</td>\n",
       "      <td>...</td>\n",
       "      <td>1223</td>\n",
       "      <td>4759</td>\n",
       "      <td>0.529</td>\n",
       "      <td>2518</td>\n",
       "      <td>PHI 2019</td>\n",
       "      <td>2019</td>\n",
       "      <td>51</td>\n",
       "      <td>82</td>\n",
       "      <td>7</td>\n",
       "      <td>12</td>\n",
       "    </tr>\n",
       "    <tr>\n",
       "      <th>4</th>\n",
       "      <td>LAC</td>\n",
       "      <td>1970</td>\n",
       "      <td>385</td>\n",
       "      <td>2936</td>\n",
       "      <td>7178</td>\n",
       "      <td>0.471</td>\n",
       "      <td>3384</td>\n",
       "      <td>2340</td>\n",
       "      <td>0.792</td>\n",
       "      <td>1853</td>\n",
       "      <td>...</td>\n",
       "      <td>1193</td>\n",
       "      <td>5060</td>\n",
       "      <td>0.507</td>\n",
       "      <td>2563</td>\n",
       "      <td>LAC 2019</td>\n",
       "      <td>2019</td>\n",
       "      <td>48</td>\n",
       "      <td>82</td>\n",
       "      <td>2</td>\n",
       "      <td>6</td>\n",
       "    </tr>\n",
       "  </tbody>\n",
       "</table>\n",
       "<p>5 rows × 53 columns</p>\n",
       "</div>"
      ],
      "text/plain": [
       "  abbreviation  assists  blocks  defensive_rebounds  field_goal_attempts  \\\n",
       "0          MIL     2136     486                3316                 7471   \n",
       "1          GSW     2413     525                2990                 7361   \n",
       "2          NOP     2216     441                2969                 7563   \n",
       "3          PHI     2207     432                3025                 7233   \n",
       "4          LAC     1970     385                2936                 7178   \n",
       "\n",
       "   field_goal_percentage  field_goals  free_throw_attempts  \\\n",
       "0                  0.476         3555                 1904   \n",
       "1                  0.491         3612                 1672   \n",
       "2                  0.473         3581                 1921   \n",
       "3                  0.471         3407                 2258   \n",
       "4                  0.471         3384                 2340   \n",
       "\n",
       "   free_throw_percentage  free_throws  ...  turnovers  \\\n",
       "0                  0.773         1471  ...       1137   \n",
       "1                  0.801         1339  ...       1169   \n",
       "2                  0.761         1462  ...       1215   \n",
       "3                  0.771         1742  ...       1223   \n",
       "4                  0.792         1853  ...       1193   \n",
       "\n",
       "   two_point_field_goal_attempts two_point_field_goal_percentage  \\\n",
       "0                           4337                           0.565   \n",
       "1                           4537                           0.557   \n",
       "2                           5114                           0.536   \n",
       "3                           4759                           0.529   \n",
       "4                           5060                           0.507   \n",
       "\n",
       "   two_point_field_goals        id  year  wins  games  playoff_wins  \\\n",
       "0                   2450  MIL 2019  2019    60     82            10   \n",
       "1                   2525  GSW 2019  2019    57     82            14   \n",
       "2                   2739  NOP 2019  2019    33     82             0   \n",
       "3                   2518  PHI 2019  2019    51     82             7   \n",
       "4                   2563  LAC 2019  2019    48     82             2   \n",
       "\n",
       "   playoff_games  \n",
       "0             15  \n",
       "1             22  \n",
       "2              0  \n",
       "3             12  \n",
       "4              6  \n",
       "\n",
       "[5 rows x 53 columns]"
      ]
     },
     "execution_count": 16,
     "metadata": {},
     "output_type": "execute_result"
    }
   ],
   "source": [
    "total_wins_df = pd.DataFrame(total_wins_dict[2019])\n",
    "\n",
    "for key in list(total_wins_dict.keys())[1:]:\n",
    "    temp_df = pd.DataFrame(total_wins_dict[key])\n",
    "    total_wins_df = pd.concat([total_wins_df, temp_df], axis = 0)\n",
    "\n",
    "all_data = pd.merge(left = all_team_df, right = total_wins_df, how = 'inner', left_on = 'id', right_on = 'id')\n",
    "all_data.head()"
   ]
  },
  {
   "cell_type": "code",
   "execution_count": 29,
   "metadata": {},
   "outputs": [],
   "source": [
    "all_data.to_csv('all_data1980-2019.csv', sep='\\t')"
   ]
  },
  {
   "cell_type": "code",
   "execution_count": 31,
   "metadata": {},
   "outputs": [
    {
     "name": "stdout",
     "output_type": "stream",
     "text": [
      "2020\n"
     ]
    }
   ],
   "source": [
    "# Build 2020 dataset\n",
    "for y in range(2020, 2019, -1):\n",
    "    \n",
    "    tids = all_team_df[all_team_df['year'] == str(y)]['id']\n",
    "    \n",
    "    wins_dict = {'id': [], 'wins': [], 'games': [], 'playoff_wins': [], 'playoff_games': []}\n",
    "\n",
    "    for i, tid in enumerate(tids):\n",
    "        wins, games, playoff_wins, playoff_games = get_win_rate(tid)\n",
    "        wins_dict['id'].append(tid)\n",
    "        wins_dict['wins'].append(wins)\n",
    "        wins_dict['games'].append(games)\n",
    "        wins_dict['playoff_wins'].append(playoff_wins)\n",
    "        wins_dict['playoff_games'].append(playoff_games)\n",
    "        \n",
    "    total_wins_dict[y] = wins_dict\n",
    "    print(y)"
   ]
  },
  {
   "cell_type": "code",
   "execution_count": 35,
   "metadata": {},
   "outputs": [],
   "source": [
    "total_wins_df = pd.DataFrame(total_wins_dict[2020])\n",
    "\n",
    "for key in list(total_wins_dict.keys())[1:]:\n",
    "    temp_df = pd.DataFrame(total_wins_dict[key])\n",
    "    total_wins_df = pd.concat([total_wins_df, temp_df], axis = 0)\n",
    "\n",
    "_2020data = pd.merge(left = all_team_df, right = total_wins_df, how = 'inner', left_on = 'id', right_on = 'id')\n",
    "_2020data.head()\n",
    "_2020data.to_csv('data2020.csv',sep='\\t')"
   ]
  },
  {
   "cell_type": "markdown",
   "metadata": {},
   "source": [
    "## Works cited\n",
    "For building of dataframe with wins\n",
    "- https://towardsdatascience.com/beating-the-odds-8d26b1a83f1b\n",
    "- https://github.com/alexmuhr/Over_Under_Achiever_Analysis/tree/fbe575df5ec397679bc10d1cfe5b0b09eb30f578\n",
    "\n",
    "Sportsreference Documentation\n",
    "- https://sportsreference.readthedocs.io/en/stable/nba.html#teams"
   ]
  },
  {
   "cell_type": "code",
   "execution_count": null,
   "metadata": {},
   "outputs": [],
   "source": []
  }
 ],
 "metadata": {
  "kernelspec": {
   "display_name": "Python 3",
   "language": "python",
   "name": "python3"
  },
  "language_info": {
   "codemirror_mode": {
    "name": "ipython",
    "version": 3
   },
   "file_extension": ".py",
   "mimetype": "text/x-python",
   "name": "python",
   "nbconvert_exporter": "python",
   "pygments_lexer": "ipython3",
   "version": "3.7.6"
  }
 },
 "nbformat": 4,
 "nbformat_minor": 4
}
